{
 "cells": [
  {
   "cell_type": "markdown",
   "metadata": {},
   "source": [
    "# <a id='toc1_'></a>[Training an ML model for Sentiment Analysis](#toc0_)\n",
    "\n",
    "This notebook demonstrates applying a few-shot-learning approach to fine-tune a sentiment analysis model to perform sentiment classification on the product review dataset."
   ]
  },
  {
   "cell_type": "markdown",
   "metadata": {},
   "source": [
    "**Table of contents**<a id='toc0_'></a>    \n",
    "- [Training an ML model for Sentiment Analysis](#toc1_)    \n",
    "  - [Problem Definition](#toc1_1_)    \n",
    "  - [Approach](#toc1_2_)    \n",
    "  - [Data](#toc1_3_)    \n",
    "  - [Training](#toc1_4_)    \n",
    "  - [Inference](#toc1_5_)    \n",
    "  - [Exporting](#toc1_6_)    \n",
    "  - [Benefits](#toc1_7_)    \n",
    "  - [Conclusion](#toc1_8_)    \n",
    "  - [Future work](#toc1_9_)    \n",
    "\n",
    "<!-- vscode-jupyter-toc-config\n",
    "\tnumbering=false\n",
    "\tanchor=true\n",
    "\tflat=false\n",
    "\tminLevel=1\n",
    "\tmaxLevel=6\n",
    "\t/vscode-jupyter-toc-config -->\n",
    "<!-- THIS CELL WILL BE REPLACED ON TOC UPDATE. DO NOT WRITE YOUR TEXT IN THIS CELL -->"
   ]
  },
  {
   "cell_type": "markdown",
   "metadata": {},
   "source": [
    "## <a id='toc1_1_'></a>[Problem Definition](#toc0_)\n",
    "This tutorial tackles the following tasks:\n",
    "* Choose a classification problem (Sentiment analysis, emotion detection, spam detection, topic classification of news articles)\n",
    "* Develop a ML model that takes strings as inputs and predicts the corresponding label"
   ]
  },
  {
   "cell_type": "markdown",
   "metadata": {},
   "source": [
    "## <a id='toc1_2_'></a>[Approach](#toc0_)\n",
    "In this example we will train a transformer model, using a few-shot-learning pipeline, to predict the sentiment of the customer review.\n"
   ]
  },
  {
   "cell_type": "markdown",
   "metadata": {},
   "source": [
    "## <a id='toc1_3_'></a>[Data](#toc0_)"
   ]
  },
  {
   "cell_type": "markdown",
   "metadata": {},
   "source": [
    "As a demonstration of sentiment classification, we can use [SentEval-CR](https://huggingface.co/datasets/SetFit/SentEval-CR) dataset from huggingface. \n",
    "As described in the [original paper](https://dl.acm.org/doi/10.1145/1014052.1014073),  this dataset contains customer reviews in the e-commerce domain. \n",
    "\n",
    "The test split was created by randomly sampling 20% of the original data (753 samples), and the train split is the remaining 80% (3012 samples).\n",
    "\n",
    "Upon investigating class balance, we can observe that positive reviews dominate with roughly a 2:1 ratio, equally spanning across test and train subsets."
   ]
  },
  {
   "cell_type": "code",
   "execution_count": 1,
   "metadata": {},
   "outputs": [],
   "source": [
    "from datasets import load_dataset, concatenate_datasets"
   ]
  },
  {
   "cell_type": "code",
   "execution_count": 2,
   "metadata": {},
   "outputs": [
    {
     "name": "stderr",
     "output_type": "stream",
     "text": [
      "Repo card metadata block was not found. Setting CardData to empty.\n"
     ]
    }
   ],
   "source": [
    "DATASET_REPO = \"SetFit\"\n",
    "DATASET_NAME = \"SentEval-CR\"\n",
    "\n",
    "dataset = load_dataset(f\"{DATASET_REPO}/{DATASET_NAME}\", cache_dir=\".dataset\")\n"
   ]
  },
  {
   "cell_type": "code",
   "execution_count": 3,
   "metadata": {},
   "outputs": [
    {
     "name": "stdout",
     "output_type": "stream",
     "text": [
      "DatasetDict({\n",
      "    train: Dataset({\n",
      "        features: ['text', 'label', 'label_text'],\n",
      "        num_rows: 1079\n",
      "    })\n",
      "    test: Dataset({\n",
      "        features: ['text', 'label', 'label_text'],\n",
      "        num_rows: 286\n",
      "    })\n",
      "})\n",
      "DatasetDict({\n",
      "    train: Dataset({\n",
      "        features: ['text', 'label', 'label_text'],\n",
      "        num_rows: 1933\n",
      "    })\n",
      "    test: Dataset({\n",
      "        features: ['text', 'label', 'label_text'],\n",
      "        num_rows: 467\n",
      "    })\n",
      "})\n"
     ]
    }
   ],
   "source": [
    "# investigate class balance\n",
    "print(dataset.filter(lambda x: x['label'] == 0)) # Negative\n",
    "print(dataset.filter(lambda x: x['label'] == 1)) # Positive"
   ]
  },
  {
   "cell_type": "markdown",
   "metadata": {},
   "source": [
    "## <a id='toc1_4_'></a>[Training](#toc0_)\n",
    "\n",
    "The core training component is [SetFit](https://huggingface.co/blog/setfit). [paper](https://arxiv.org/abs/2209.11055), which heavily relies on:\n",
    "\n",
    "* **Contrastive Learning**  is a deep learning technique for unsupervised representation learning. The goal is to learn a representation of data such that similar instances are close together in the representation space, while dissimilar instances are far apart. [[1]](https://paperswithcode.com/task/contrastive-learning)\n",
    "* **Cosine Similarity Loss** for training the transformer encoder. It ensures that embeddings of the same class are close in a high-dimensional latent space, whereas embeddings for prototypes of different classes are apart.\n",
    "\n",
    "For training, we can use pre-trained transformer models, such as [roBERTa](https://huggingface.co/cardiffnlp/twitter-roberta-base-sentiment). It is trained on a very similar domain (classifying tweet sentiment), which ensures good performance with only a few samples.\n"
   ]
  },
  {
   "cell_type": "code",
   "execution_count": 4,
   "metadata": {},
   "outputs": [],
   "source": [
    "from setfit import SetFitModel\n",
    "from text_classification.classifier import Classifier"
   ]
  },
  {
   "cell_type": "code",
   "execution_count": 5,
   "metadata": {},
   "outputs": [],
   "source": [
    "MODEL_REPO = \"cardiffnlp\"\n",
    "MODEL_NAME = \"twitter-roberta-base-sentiment\"\n",
    "\n",
    "PRE_TRAINED_MODEL_DIR = \".pre-trained-models\""
   ]
  },
  {
   "cell_type": "code",
   "execution_count": 6,
   "metadata": {},
   "outputs": [
    {
     "name": "stderr",
     "output_type": "stream",
     "text": [
      "No sentence-transformers model found with name .pre-trained-models/cardiffnlp_twitter-roberta-base-sentiment. Creating a new one with MEAN pooling.\n",
      "Some weights of RobertaModel were not initialized from the model checkpoint at .pre-trained-models/cardiffnlp_twitter-roberta-base-sentiment and are newly initialized: ['roberta.pooler.dense.bias', 'roberta.pooler.dense.weight']\n",
      "You should probably TRAIN this model on a down-stream task to be able to use it for predictions and inference.\n",
      "model_head.pkl not found on HuggingFace Hub, initialising classification head with random weights. You should TRAIN this model on a downstream task to use it for predictions and inference.\n"
     ]
    },
    {
     "data": {
      "text/plain": [
       "(SentenceTransformer(\n",
       "   (0): Transformer({'max_seq_length': 514, 'do_lower_case': False}) with Transformer model: RobertaModel \n",
       "   (1): Pooling({'word_embedding_dimension': 768, 'pooling_mode_cls_token': False, 'pooling_mode_mean_tokens': True, 'pooling_mode_max_tokens': False, 'pooling_mode_mean_sqrt_len_tokens': False})\n",
       " ),\n",
       " LogisticRegression())"
      ]
     },
     "execution_count": 6,
     "metadata": {},
     "output_type": "execute_result"
    }
   ],
   "source": [
    "model = SetFitModel.from_pretrained(f\"{MODEL_REPO}/{MODEL_NAME}\", cache_dir=PRE_TRAINED_MODEL_DIR)\n",
    "model.model_body, model.model_head"
   ]
  },
  {
   "cell_type": "code",
   "execution_count": 7,
   "metadata": {},
   "outputs": [],
   "source": [
    "from matplotlib import pyplot as plt"
   ]
  },
  {
   "cell_type": "code",
   "execution_count": 8,
   "metadata": {},
   "outputs": [
    {
     "name": "stderr",
     "output_type": "stream",
     "text": [
      "model_head.pkl not found on HuggingFace Hub, initialising classification head with random weights. You should TRAIN this model on a downstream task to use it for predictions and inference.\n",
      "Applying column mapping to training dataset\n"
     ]
    },
    {
     "data": {
      "application/vnd.jupyter.widget-view+json": {
       "model_id": "71355501b8d9481489962f816987046c",
       "version_major": 2,
       "version_minor": 0
      },
      "text/plain": [
       "Generating Training Pairs:   0%|          | 0/20 [00:00<?, ?it/s]"
      ]
     },
     "metadata": {},
     "output_type": "display_data"
    },
    {
     "name": "stderr",
     "output_type": "stream",
     "text": [
      "***** Running training *****\n",
      "  Num examples = 80\n",
      "  Num epochs = 2\n",
      "  Total optimization steps = 4\n",
      "  Total train batch size = 64\n"
     ]
    },
    {
     "data": {
      "application/vnd.jupyter.widget-view+json": {
       "model_id": "e97a1d44d166442aaeb5db2fb8163eff",
       "version_major": 2,
       "version_minor": 0
      },
      "text/plain": [
       "Epoch:   0%|          | 0/2 [00:00<?, ?it/s]"
      ]
     },
     "metadata": {},
     "output_type": "display_data"
    },
    {
     "data": {
      "application/vnd.jupyter.widget-view+json": {
       "model_id": "6862067a52e54ccf9df4d3ea6ac043b2",
       "version_major": 2,
       "version_minor": 0
      },
      "text/plain": [
       "Iteration:   0%|          | 0/2 [00:00<?, ?it/s]"
      ]
     },
     "metadata": {},
     "output_type": "display_data"
    },
    {
     "data": {
      "application/vnd.jupyter.widget-view+json": {
       "model_id": "1adb303556f846c7a7e70571bd58bd3b",
       "version_major": 2,
       "version_minor": 0
      },
      "text/plain": [
       "Iteration:   0%|          | 0/2 [00:00<?, ?it/s]"
      ]
     },
     "metadata": {},
     "output_type": "display_data"
    },
    {
     "name": "stderr",
     "output_type": "stream",
     "text": [
      "Applying column mapping to evaluation dataset\n",
      "***** Running evaluation *****\n",
      "model_head.pkl not found on HuggingFace Hub, initialising classification head with random weights. You should TRAIN this model on a downstream task to use it for predictions and inference.\n",
      "Applying column mapping to training dataset\n"
     ]
    },
    {
     "data": {
      "application/vnd.jupyter.widget-view+json": {
       "model_id": "4026f40fdb3640419470334c86035a78",
       "version_major": 2,
       "version_minor": 0
      },
      "text/plain": [
       "Generating Training Pairs:   0%|          | 0/20 [00:00<?, ?it/s]"
      ]
     },
     "metadata": {},
     "output_type": "display_data"
    },
    {
     "name": "stderr",
     "output_type": "stream",
     "text": [
      "***** Running training *****\n",
      "  Num examples = 160\n",
      "  Num epochs = 2\n",
      "  Total optimization steps = 6\n",
      "  Total train batch size = 64\n"
     ]
    },
    {
     "data": {
      "application/vnd.jupyter.widget-view+json": {
       "model_id": "228c1f31abc54742ad87283b8b2f1b32",
       "version_major": 2,
       "version_minor": 0
      },
      "text/plain": [
       "Epoch:   0%|          | 0/2 [00:00<?, ?it/s]"
      ]
     },
     "metadata": {},
     "output_type": "display_data"
    },
    {
     "data": {
      "application/vnd.jupyter.widget-view+json": {
       "model_id": "4a060f2d053a4e7a91a74898c173e845",
       "version_major": 2,
       "version_minor": 0
      },
      "text/plain": [
       "Iteration:   0%|          | 0/3 [00:00<?, ?it/s]"
      ]
     },
     "metadata": {},
     "output_type": "display_data"
    },
    {
     "data": {
      "application/vnd.jupyter.widget-view+json": {
       "model_id": "225143e68e13460e8c0920179d33c003",
       "version_major": 2,
       "version_minor": 0
      },
      "text/plain": [
       "Iteration:   0%|          | 0/3 [00:00<?, ?it/s]"
      ]
     },
     "metadata": {},
     "output_type": "display_data"
    },
    {
     "name": "stderr",
     "output_type": "stream",
     "text": [
      "Applying column mapping to evaluation dataset\n",
      "***** Running evaluation *****\n",
      "model_head.pkl not found on HuggingFace Hub, initialising classification head with random weights. You should TRAIN this model on a downstream task to use it for predictions and inference.\n",
      "Applying column mapping to training dataset\n"
     ]
    },
    {
     "data": {
      "application/vnd.jupyter.widget-view+json": {
       "model_id": "aa6a774937dc41ef97cb7917f9469873",
       "version_major": 2,
       "version_minor": 0
      },
      "text/plain": [
       "Generating Training Pairs:   0%|          | 0/20 [00:00<?, ?it/s]"
      ]
     },
     "metadata": {},
     "output_type": "display_data"
    },
    {
     "name": "stderr",
     "output_type": "stream",
     "text": [
      "***** Running training *****\n",
      "  Num examples = 320\n",
      "  Num epochs = 2\n",
      "  Total optimization steps = 10\n",
      "  Total train batch size = 64\n"
     ]
    },
    {
     "data": {
      "application/vnd.jupyter.widget-view+json": {
       "model_id": "cb92a8d9b7164ea6abe16e923e1846a5",
       "version_major": 2,
       "version_minor": 0
      },
      "text/plain": [
       "Epoch:   0%|          | 0/2 [00:00<?, ?it/s]"
      ]
     },
     "metadata": {},
     "output_type": "display_data"
    },
    {
     "data": {
      "application/vnd.jupyter.widget-view+json": {
       "model_id": "b377c54a8d0443f598082917642a6a09",
       "version_major": 2,
       "version_minor": 0
      },
      "text/plain": [
       "Iteration:   0%|          | 0/5 [00:00<?, ?it/s]"
      ]
     },
     "metadata": {},
     "output_type": "display_data"
    },
    {
     "data": {
      "application/vnd.jupyter.widget-view+json": {
       "model_id": "075a6606137043bd9a019cb6059347e9",
       "version_major": 2,
       "version_minor": 0
      },
      "text/plain": [
       "Iteration:   0%|          | 0/5 [00:00<?, ?it/s]"
      ]
     },
     "metadata": {},
     "output_type": "display_data"
    },
    {
     "name": "stderr",
     "output_type": "stream",
     "text": [
      "Applying column mapping to evaluation dataset\n",
      "***** Running evaluation *****\n",
      "model_head.pkl not found on HuggingFace Hub, initialising classification head with random weights. You should TRAIN this model on a downstream task to use it for predictions and inference.\n",
      "Applying column mapping to training dataset\n"
     ]
    },
    {
     "data": {
      "application/vnd.jupyter.widget-view+json": {
       "model_id": "48c79a70575c4346938b79eabe22493d",
       "version_major": 2,
       "version_minor": 0
      },
      "text/plain": [
       "Generating Training Pairs:   0%|          | 0/20 [00:00<?, ?it/s]"
      ]
     },
     "metadata": {},
     "output_type": "display_data"
    },
    {
     "name": "stderr",
     "output_type": "stream",
     "text": [
      "***** Running training *****\n",
      "  Num examples = 640\n",
      "  Num epochs = 2\n",
      "  Total optimization steps = 20\n",
      "  Total train batch size = 64\n"
     ]
    },
    {
     "data": {
      "application/vnd.jupyter.widget-view+json": {
       "model_id": "9d90e63167ee4d3ea525552291e1afe5",
       "version_major": 2,
       "version_minor": 0
      },
      "text/plain": [
       "Epoch:   0%|          | 0/2 [00:00<?, ?it/s]"
      ]
     },
     "metadata": {},
     "output_type": "display_data"
    },
    {
     "data": {
      "application/vnd.jupyter.widget-view+json": {
       "model_id": "794b1d4273044c0a9fd1b9f4395730e9",
       "version_major": 2,
       "version_minor": 0
      },
      "text/plain": [
       "Iteration:   0%|          | 0/10 [00:00<?, ?it/s]"
      ]
     },
     "metadata": {},
     "output_type": "display_data"
    },
    {
     "data": {
      "application/vnd.jupyter.widget-view+json": {
       "model_id": "676dc54e6da04ec49d5b7486e9f8591f",
       "version_major": 2,
       "version_minor": 0
      },
      "text/plain": [
       "Iteration:   0%|          | 0/10 [00:00<?, ?it/s]"
      ]
     },
     "metadata": {},
     "output_type": "display_data"
    },
    {
     "name": "stderr",
     "output_type": "stream",
     "text": [
      "Applying column mapping to evaluation dataset\n",
      "***** Running evaluation *****\n",
      "model_head.pkl not found on HuggingFace Hub, initialising classification head with random weights. You should TRAIN this model on a downstream task to use it for predictions and inference.\n",
      "Applying column mapping to training dataset\n"
     ]
    },
    {
     "data": {
      "application/vnd.jupyter.widget-view+json": {
       "model_id": "28c5c9def1124c8484cd1a8923b52d78",
       "version_major": 2,
       "version_minor": 0
      },
      "text/plain": [
       "Generating Training Pairs:   0%|          | 0/20 [00:00<?, ?it/s]"
      ]
     },
     "metadata": {},
     "output_type": "display_data"
    },
    {
     "name": "stderr",
     "output_type": "stream",
     "text": [
      "***** Running training *****\n",
      "  Num examples = 1280\n",
      "  Num epochs = 2\n",
      "  Total optimization steps = 40\n",
      "  Total train batch size = 64\n"
     ]
    },
    {
     "data": {
      "application/vnd.jupyter.widget-view+json": {
       "model_id": "5c0d58314536433d9553721cf345a0ab",
       "version_major": 2,
       "version_minor": 0
      },
      "text/plain": [
       "Epoch:   0%|          | 0/2 [00:00<?, ?it/s]"
      ]
     },
     "metadata": {},
     "output_type": "display_data"
    },
    {
     "data": {
      "application/vnd.jupyter.widget-view+json": {
       "model_id": "e255678f8aca4b838135acc34d93ad33",
       "version_major": 2,
       "version_minor": 0
      },
      "text/plain": [
       "Iteration:   0%|          | 0/20 [00:00<?, ?it/s]"
      ]
     },
     "metadata": {},
     "output_type": "display_data"
    },
    {
     "data": {
      "application/vnd.jupyter.widget-view+json": {
       "model_id": "70c577d0d4d24928a2aaa7e20ac36810",
       "version_major": 2,
       "version_minor": 0
      },
      "text/plain": [
       "Iteration:   0%|          | 0/20 [00:00<?, ?it/s]"
      ]
     },
     "metadata": {},
     "output_type": "display_data"
    },
    {
     "name": "stderr",
     "output_type": "stream",
     "text": [
      "Applying column mapping to evaluation dataset\n",
      "***** Running evaluation *****\n",
      "model_head.pkl not found on HuggingFace Hub, initialising classification head with random weights. You should TRAIN this model on a downstream task to use it for predictions and inference.\n",
      "Applying column mapping to training dataset\n"
     ]
    },
    {
     "data": {
      "application/vnd.jupyter.widget-view+json": {
       "model_id": "5cba26eb30354a99a5b7ffec0766498e",
       "version_major": 2,
       "version_minor": 0
      },
      "text/plain": [
       "Generating Training Pairs:   0%|          | 0/20 [00:00<?, ?it/s]"
      ]
     },
     "metadata": {},
     "output_type": "display_data"
    },
    {
     "name": "stderr",
     "output_type": "stream",
     "text": [
      "***** Running training *****\n",
      "  Num examples = 2560\n",
      "  Num epochs = 2\n",
      "  Total optimization steps = 80\n",
      "  Total train batch size = 64\n"
     ]
    },
    {
     "data": {
      "application/vnd.jupyter.widget-view+json": {
       "model_id": "75002baff40a446ea7a0b064ca1b781a",
       "version_major": 2,
       "version_minor": 0
      },
      "text/plain": [
       "Epoch:   0%|          | 0/2 [00:00<?, ?it/s]"
      ]
     },
     "metadata": {},
     "output_type": "display_data"
    },
    {
     "data": {
      "application/vnd.jupyter.widget-view+json": {
       "model_id": "877f33d8b0034caa8e02b5512bb1839f",
       "version_major": 2,
       "version_minor": 0
      },
      "text/plain": [
       "Iteration:   0%|          | 0/40 [00:00<?, ?it/s]"
      ]
     },
     "metadata": {},
     "output_type": "display_data"
    },
    {
     "data": {
      "application/vnd.jupyter.widget-view+json": {
       "model_id": "60441345025d49f483df3318220ebce2",
       "version_major": 2,
       "version_minor": 0
      },
      "text/plain": [
       "Iteration:   0%|          | 0/40 [00:00<?, ?it/s]"
      ]
     },
     "metadata": {},
     "output_type": "display_data"
    },
    {
     "name": "stderr",
     "output_type": "stream",
     "text": [
      "Applying column mapping to evaluation dataset\n",
      "***** Running evaluation *****\n"
     ]
    }
   ],
   "source": [
    "# if running on CPU, comment this cell as it is only used to demonstrate how performance scales with the number of examples.\n",
    "\n",
    "accuracy = []\n",
    "SAMPLES_PER_CLASS_LIST = [1,2,4,8,16,32]\n",
    "\n",
    "for SAMPLES_PER_CLASS in SAMPLES_PER_CLASS_LIST:\n",
    "\n",
    "    sentiment_classifier = Classifier(model_name=\"sentence-transformers/paraphrase-mpnet-base-v2\", cache_dir=PRE_TRAINED_MODEL_DIR)\n",
    "    train_ds = concatenate_datasets([dataset['train'].shuffle(seed=42).filter(lambda x: x['label'] == label_id).select(range(SAMPLES_PER_CLASS)) for label_id in [0, 1]]).shuffle(seed=42)\n",
    "    test_ds = dataset[\"test\"]\n",
    "\n",
    "\n",
    "    performance_metrics = sentiment_classifier.train(train_ds=train_ds, test_ds=test_ds, batch_size=64, num_iterations=20, num_epochs=2)\n",
    "    accuracy.append(performance_metrics['accuracy'])"
   ]
  },
  {
   "cell_type": "code",
   "execution_count": 9,
   "metadata": {},
   "outputs": [
    {
     "data": {
      "text/plain": [
       "Text(0.5, 1.0, 'Accuracy vs. Number of samples per class')"
      ]
     },
     "execution_count": 9,
     "metadata": {},
     "output_type": "execute_result"
    },
    {
     "data": {
      "image/png": "[encoded data removed]",
      "text/plain": [
       "<Figure size 640x480 with 1 Axes>"
      ]
     },
     "metadata": {},
     "output_type": "display_data"
    }
   ],
   "source": [
    "# plot the model\n",
    "plt.plot(SAMPLES_PER_CLASS_LIST, accuracy, \"-o\")\n",
    "plt.xticks(SAMPLES_PER_CLASS_LIST)\n",
    "plt.yticks(accuracy)\n",
    "plt.xlabel('Number of samples per class')\n",
    "plt.ylabel('Accuracy')\n",
    "plt.title('Accuracy vs. Number of samples per class')"
   ]
  },
  {
   "cell_type": "code",
   "execution_count": 10,
   "metadata": {},
   "outputs": [
    {
     "name": "stderr",
     "output_type": "stream",
     "text": [
      "No sentence-transformers model found with name .pre-trained-models/cardiffnlp_twitter-roberta-base-sentiment. Creating a new one with MEAN pooling.\n",
      "Some weights of RobertaModel were not initialized from the model checkpoint at .pre-trained-models/cardiffnlp_twitter-roberta-base-sentiment and are newly initialized: ['roberta.pooler.dense.bias', 'roberta.pooler.dense.weight']\n",
      "You should probably TRAIN this model on a down-stream task to be able to use it for predictions and inference.\n",
      "model_head.pkl not found on HuggingFace Hub, initialising classification head with random weights. You should TRAIN this model on a downstream task to use it for predictions and inference.\n",
      "Applying column mapping to training dataset\n"
     ]
    },
    {
     "data": {
      "application/vnd.jupyter.widget-view+json": {
       "model_id": "935c9335502b4d85b7582c898ce4775c",
       "version_major": 2,
       "version_minor": 0
      },
      "text/plain": [
       "Generating Training Pairs:   0%|          | 0/20 [00:00<?, ?it/s]"
      ]
     },
     "metadata": {},
     "output_type": "display_data"
    },
    {
     "name": "stderr",
     "output_type": "stream",
     "text": [
      "***** Running training *****\n",
      "  Num examples = 320\n",
      "  Num epochs = 3\n",
      "  Total optimization steps = 15\n",
      "  Total train batch size = 64\n"
     ]
    },
    {
     "data": {
      "application/vnd.jupyter.widget-view+json": {
       "model_id": "5b1c3645135244b5bbd90da9ca8e47c4",
       "version_major": 2,
       "version_minor": 0
      },
      "text/plain": [
       "Epoch:   0%|          | 0/3 [00:00<?, ?it/s]"
      ]
     },
     "metadata": {},
     "output_type": "display_data"
    },
    {
     "data": {
      "application/vnd.jupyter.widget-view+json": {
       "model_id": "c52b0807948d4706a248331c5dd00875",
       "version_major": 2,
       "version_minor": 0
      },
      "text/plain": [
       "Iteration:   0%|          | 0/5 [00:00<?, ?it/s]"
      ]
     },
     "metadata": {},
     "output_type": "display_data"
    },
    {
     "data": {
      "application/vnd.jupyter.widget-view+json": {
       "model_id": "744c9f68c9914feebbdb42d9bf0cffec",
       "version_major": 2,
       "version_minor": 0
      },
      "text/plain": [
       "Iteration:   0%|          | 0/5 [00:00<?, ?it/s]"
      ]
     },
     "metadata": {},
     "output_type": "display_data"
    },
    {
     "data": {
      "application/vnd.jupyter.widget-view+json": {
       "model_id": "0e2fde3042c54521b4588466182f3a3b",
       "version_major": 2,
       "version_minor": 0
      },
      "text/plain": [
       "Iteration:   0%|          | 0/5 [00:00<?, ?it/s]"
      ]
     },
     "metadata": {},
     "output_type": "display_data"
    },
    {
     "name": "stderr",
     "output_type": "stream",
     "text": [
      "Applying column mapping to evaluation dataset\n",
      "***** Running evaluation *****\n"
     ]
    },
    {
     "data": {
      "text/plain": [
       "{'accuracy': 0.8897742363877822}"
      ]
     },
     "execution_count": 10,
     "metadata": {},
     "output_type": "execute_result"
    }
   ],
   "source": [
    "SAMPLES_PER_CLASS = 4\n",
    "\n",
    "sentiment_classifier = Classifier(model_name=f\"{MODEL_REPO}/{MODEL_NAME}\", cache_dir=PRE_TRAINED_MODEL_DIR)\n",
    "train_ds = concatenate_datasets([dataset['train'].shuffle(seed=42).filter(lambda x: x['label'] == label_id).select(range(SAMPLES_PER_CLASS)) for label_id in [0, 1]]).shuffle(seed=42)\n",
    "test_ds = dataset[\"test\"]\n",
    "\n",
    "\n",
    "performance_metrics = sentiment_classifier.train(train_ds=train_ds, test_ds=test_ds, batch_size=64, num_iterations=20, num_epochs=3)\n",
    "performance_metrics"
   ]
  },
  {
   "cell_type": "markdown",
   "metadata": {},
   "source": [
    "## <a id='toc1_5_'></a>[Inference](#toc0_)"
   ]
  },
  {
   "cell_type": "markdown",
   "metadata": {},
   "source": [
    "The following two snippets indicate how one can interact with a trained model and how high compute latency is. Using a single T4 GPU, this model can classify `>30 samples/sec`, making it suitable for deployment and real time applications"
   ]
  },
  {
   "cell_type": "code",
   "execution_count": 11,
   "metadata": {},
   "outputs": [],
   "source": [
    "import numpy as np\n",
    "from tqdm import tqdm"
   ]
  },
  {
   "cell_type": "code",
   "execution_count": 12,
   "metadata": {},
   "outputs": [
    {
     "name": "stderr",
     "output_type": "stream",
     "text": [
      "  0%|          | 3/753 [00:00<00:27, 26.90it/s]"
     ]
    },
    {
     "name": "stderr",
     "output_type": "stream",
     "text": [
      "100%|██████████| 753/753 [00:19<00:00, 38.76it/s]\n"
     ]
    },
    {
     "data": {
      "text/plain": [
       "(670, 83)"
      ]
     },
     "execution_count": 12,
     "metadata": {},
     "output_type": "execute_result"
    }
   ],
   "source": [
    "correct_count = 0\n",
    "incorrect_count = 0\n",
    "for ds_sample in tqdm(test_ds):\n",
    "    text, y_true = ds_sample['text'], ds_sample['label']\n",
    "    y_pred = np.argmax(sentiment_classifier.model.predict_proba([text]))\n",
    "\n",
    "    if y_pred == y_true:\n",
    "        correct_count += 1\n",
    "    else:\n",
    "        incorrect_count += 1\n",
    "\n",
    "correct_count, incorrect_count"
   ]
  },
  {
   "cell_type": "markdown",
   "metadata": {},
   "source": [
    "## <a id='toc1_6_'></a>[Exporting](#toc0_)"
   ]
  },
  {
   "cell_type": "markdown",
   "metadata": {},
   "source": [
    "Final step is to save the trained model on disk, which will make it availabe for future use."
   ]
  },
  {
   "cell_type": "code",
   "execution_count": 13,
   "metadata": {},
   "outputs": [],
   "source": [
    "sentiment_classifier.export(f\".trained-models/{MODEL_REPO}/{MODEL_NAME}/{DATASET_REPO}/{DATASET_NAME}\")"
   ]
  },
  {
   "cell_type": "markdown",
   "metadata": {},
   "source": [
    "## <a id='toc1_7_'></a>[Benefits](#toc0_)\n",
    "There are multiple benefits to training a transformer-based classifier using SetFit.\n",
    "\n",
    "* Few Shot Learning approach is essential for use cases which have an insufficient amount of data or where data labelling is an expensive task. Furthermore, an approach that quickly learns insights from a few examples is a good foundation for incremental improvement or active learning.\n",
    "\n",
    "* Training a model using SetFit and FSL requires little compute infrastructure and can be completed quickly compared to traditional model training. As it shortens the development cycles, and increases response to data shifts, or the necessity to adapt the model to new tasks, SetFit is ideal for prototyping and R&D.\n",
    "* images FSL approach does not work well only with text. As contrastive learning is a general concept, one can easily use [transformers for images](https://huggingface.co/sentence-transformers/clip-ViT-B-32)."
   ]
  },
  {
   "cell_type": "markdown",
   "metadata": {},
   "source": [
    "## <a id='toc1_8_'></a>[Conclusion](#toc0_)\n",
    "\n",
    "This tutorial covered how to train a transformer to classify a customer review based on sentiment. For this, we have leveraged a few-shot-learning approach [SetFit](https://huggingface.co/blog/setfit), a pre-trained [roBERTa](https://huggingface.co/cardiffnlp/twitter-roberta-base-sentiment) model and a [customer review dataset](https://huggingface.co/datasets/SetFit/SentEval-CR). Using as few as 4 examples of each class, we are able to achieve an accuracy level of  ~ 0.9, with the training that is CPU friendly."
   ]
  },
  {
   "cell_type": "markdown",
   "metadata": {},
   "source": [
    "## <a id='toc1_9_'></a>[Future work](#toc0_)\n",
    "\n",
    "Future work on this topic may consider deployment on edge devices. Topics which could raise interest are:\n",
    "* Knowledge distillation - Train large models (teachers) and use them to transfer performance on smaller, more realtime-friendly models.\n",
    "* Quantization - reducing the number of bits with which information is represented achieves a more compute-effective formats like INT8.\n",
    "* Effective formats; ONNX graphs ensure that model inference is more optimal"
   ]
  },
  {
   "cell_type": "markdown",
   "metadata": {},
   "source": []
  }
 ],
 "metadata": {
  "kernelspec": {
   "display_name": "text-classification",
   "language": "python",
   "name": "python3"
  },
  "language_info": {
   "codemirror_mode": {
    "name": "ipython",
    "version": 3
   },
   "file_extension": ".py",
   "mimetype": "text/x-python",
   "name": "python",
   "nbconvert_exporter": "python",
   "pygments_lexer": "ipython3",
   "version": "3.8.17"
  },
  "orig_nbformat": 4
 },
 "nbformat": 4,
 "nbformat_minor": 2
}
